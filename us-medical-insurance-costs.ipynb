{
 "cells": [
  {
   "attachments": {},
   "cell_type": "markdown",
   "metadata": {},
   "source": [
    "# U.S. Medical Insurance Costs"
   ]
  },
  {
   "attachments": {},
   "cell_type": "markdown",
   "metadata": {},
   "source": [
    "In this project I create a function that calculates the average insurance costs of smokers and non_smokers and then compare the difference between the two averages \n"
   ]
  },
  {
   "cell_type": "code",
   "execution_count": 44,
   "metadata": {},
   "outputs": [
    {
     "name": "stdout",
     "output_type": "stream",
     "text": [
      "Average cost of insurance: 13270.42$\n",
      "Average cost of insurance for smokers: 32050.23$\n",
      "Average cost of insurance for non-smokers: 8434.27$\n",
      "smokers pay on average: 23615.96$ more\n"
     ]
    }
   ],
   "source": [
    "import csv\n",
    "\n",
    "def calculate_average_insurance_cost(filename):\n",
    "    medical_records = []\n",
    "    with open(filename) as insurance_file:\n",
    "        insurance_data = csv.DictReader(insurance_file)\n",
    "        for row in insurance_data:\n",
    "            person = {\n",
    "                'age' : row['age'],\n",
    "                'sex' : row['sex'],\n",
    "                'bmi' : row['bmi'],\n",
    "                'children' : row['children'],\n",
    "                'smoker' : row['smoker'],\n",
    "                'region' : row['region'],\n",
    "                'charges' : row['charges']\n",
    "            }\n",
    "            medical_records.append(person)\n",
    "\n",
    "    total_cost = 0 \n",
    "    num_medical_records = len(medical_records)\n",
    "\n",
    "    for person in medical_records: \n",
    "        total_cost += float(person['charges']) \n",
    "\n",
    "    average_cost = total_cost / num_medical_records\n",
    "\n",
    "    total_smoker_cost = 0\n",
    "    total_non_smoker_cost = 0  \n",
    "    num_smokers = 0\n",
    "    num_non_smokers = 0\n",
    "\n",
    "    for person in medical_records: \n",
    "        if person['smoker'] == 'yes':\n",
    "            total_smoker_cost += float(person['charges']) \n",
    "            num_smokers += 1\n",
    "        elif person['smoker'] == 'no': \n",
    "            total_non_smoker_cost += float(person['charges'])\n",
    "            num_non_smokers += 1\n",
    "        else: \n",
    "            pass \n",
    "\n",
    "    average_smoker_cost = total_smoker_cost / num_smokers if num_smokers > 0 else 0\n",
    "    average_non_smoker_cost = total_non_smoker_cost / num_non_smokers if num_non_smokers > 0 else 0\n",
    "\n",
    "    return (average_cost, average_smoker_cost, average_non_smoker_cost)\n",
    "\n",
    "\n",
    "filename = 'insurance.csv'\n",
    "average_cost, average_smoker_cost, average_non_smoker_cost = calculate_average_insurance_cost(filename)\n",
    "print(f\"Average cost of insurance: {round(average_cost, 2)}$\")\n",
    "print(f\"Average cost of insurance for smokers: {round(average_smoker_cost, 2)}$\")\n",
    "print(f\"Average cost of insurance for non-smokers: {round(average_non_smoker_cost, 2)}$\")\n",
    "print(f\"smokers pay on average: {round(average_smoker_cost - average_non_smoker_cost, 2)}$ more\")\n",
    "\n"
   ]
  }
 ],
 "metadata": {
  "kernelspec": {
   "display_name": "Python 3",
   "language": "python",
   "name": "python3"
  },
  "language_info": {
   "codemirror_mode": {
    "name": "ipython",
    "version": 3
   },
   "file_extension": ".py",
   "mimetype": "text/x-python",
   "name": "python",
   "nbconvert_exporter": "python",
   "pygments_lexer": "ipython3",
   "version": "3.10.9"
  }
 },
 "nbformat": 4,
 "nbformat_minor": 4
}
